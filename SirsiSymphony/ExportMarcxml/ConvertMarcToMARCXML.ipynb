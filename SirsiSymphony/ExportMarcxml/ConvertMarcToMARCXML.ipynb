{
 "cells": [
  {
   "cell_type": "code",
   "execution_count": null,
   "metadata": {},
   "outputs": [],
   "source": [
    "import os\n",
    "from pymarc import MARCReader, marcxml"
   ]
  },
  {
   "cell_type": "code",
   "execution_count": null,
   "metadata": {},
   "outputs": [],
   "source": [
    "all_records = list()\n",
    "\n",
    "with open('Korea', 'rb') as fh:\n",
    "    reader = MARCReader(fh)\n",
    "    for record in reader:\n",
    "        all_records.append(record)"
   ]
  },
  {
   "cell_type": "code",
   "execution_count": null,
   "metadata": {},
   "outputs": [],
   "source": [
    "print(len(all_records))"
   ]
  },
  {
   "cell_type": "markdown",
   "metadata": {},
   "source": [
    "There are:\n",
    "\n",
    "5893 catalog records,\n",
    "\n",
    "5894 bibliographic marc records,\n",
    "\n",
    "8082 specific item information"
   ]
  },
  {
   "cell_type": "code",
   "execution_count": null,
   "metadata": {
    "scrolled": true
   },
   "outputs": [],
   "source": [
    "print(all_records[0])"
   ]
  },
  {
   "cell_type": "code",
   "execution_count": null,
   "metadata": {},
   "outputs": [],
   "source": [
    "for num, record in enumerate(all_records):\n",
    "    xml_record = marcxml.record_to_xml(record)\n",
    "    with open('gaybutlerplater/{}.xml'.format(num), 'w') as f:\n",
    "        f.write(xml_record.decode('utf-8'))"
   ]
  },
  {
   "cell_type": "code",
   "execution_count": null,
   "metadata": {},
   "outputs": [],
   "source": [
    "def parse_and_marcxmlize(file):\n",
    "    all_records = list()\n",
    "    with open(file, 'rb') as fh:\n",
    "        reader = MARCReader(fh)\n",
    "        for record in reader:\n",
    "            all_records.append(record)\n",
    "    print(len(all_records))\n",
    "    dir_name = \"{}_dir\".format(file)\n",
    "    os.makedirs(dir_name, exist_ok=True)\n",
    "    for num, record in enumerate(all_records):\n",
    "        xml_record = marcxml.record_to_xml(record)\n",
    "        with open('{}/{}.xml'.format(dir_name, num), 'w') as f:\n",
    "            f.write(xml_record.decode('utf-8'))"
   ]
  },
  {
   "cell_type": "code",
   "execution_count": null,
   "metadata": {},
   "outputs": [],
   "source": [
    "parse_and_marcxmlize('ARCH_MSS_UNICODE-utf8')"
   ]
  },
  {
   "cell_type": "code",
   "execution_count": null,
   "metadata": {},
   "outputs": [],
   "source": []
  }
 ],
 "metadata": {
  "kernelspec": {
   "display_name": "Python 3",
   "language": "python",
   "name": "python3"
  },
  "language_info": {
   "codemirror_mode": {
    "name": "ipython",
    "version": 3
   },
   "file_extension": ".py",
   "mimetype": "text/x-python",
   "name": "python",
   "nbconvert_exporter": "python",
   "pygments_lexer": "ipython3",
   "version": "3.5.2"
  }
 },
 "nbformat": 4,
 "nbformat_minor": 2
}
