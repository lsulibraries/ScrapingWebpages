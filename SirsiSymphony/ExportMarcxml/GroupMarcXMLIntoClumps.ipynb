{
 "cells": [
  {
   "cell_type": "code",
   "execution_count": null,
   "metadata": {},
   "outputs": [],
   "source": [
    "import os\n",
    "from pathlib import Path\n",
    "from lxml import etree\n",
    "import shutil"
   ]
  },
  {
   "cell_type": "code",
   "execution_count": null,
   "metadata": {},
   "outputs": [],
   "source": [
    "all_files = [os.path.join('ARCH_MSS_UNICODE-utf8_dir', file) for file in os.listdir('ARCH_MSS_UNICODE-utf8_dir')]\n",
    "all_files = sorted(all_files, key=lambda x:int(os.path.splitext(os.path.split(x)[1])[0]))"
   ]
  },
  {
   "cell_type": "code",
   "execution_count": null,
   "metadata": {},
   "outputs": [],
   "source": [
    "for file in all_files:\n",
    "    tree = etree.parse(file)\n",
    "    file_num = os.path.splitext(os.path.split(file)[1])[0]\n",
    "    for i in tree.xpath(\"//datafield[@tag='999']/subfield[@code='a']\"):\n",
    "        main_files.add(os.path.getsize(file))\n",
    "        output_dir = os.path.join(\"ARCH_MSS_UNICODE-utf8_bunched\", file_num)\n",
    "        os.makedirs(output_dir, exist_ok=True)\n",
    "    output_path = os.path.join(output_dir, '{}.xml'.format(file_num))\n",
    "    shutil.copy2(file, output_path)"
   ]
  },
  {
   "cell_type": "code",
   "execution_count": null,
   "metadata": {},
   "outputs": [],
   "source": [
    "all_xmls = [os.path.join(root, file)\n",
    "            for root, dirs, files in os.walk('ARCH_MSS_UNICODE-utf8_bunched')\n",
    "            for file in files\n",
    "            if os.path.splitext(file)[1] == '.xml'\n",
    "           ]\n",
    "sorted_xmls = sorted(all_xmls, key=lambda x: int(os.path.split(os.path.split(x)[0])[1]))\n",
    "parent_dirs = set(os.path.split(x)[0] for x in all_xmls)"
   ]
  },
  {
   "cell_type": "code",
   "execution_count": null,
   "metadata": {},
   "outputs": [],
   "source": [
    "for parent_dir in sorted(parent_dirs):\n",
    "    all_999s = set()\n",
    "    for file in os.listdir(parent_dir):\n",
    "        full_path = os.path.join(parent_dir, file)\n",
    "        tree = etree.parse(full_path)\n",
    "        try:\n",
    "            title = tree.xpath('//datafield[@tag=\"245\"]/subfield[@code=\"a\"]')[0].text\n",
    "        except IndexError:\n",
    "            title = ''\n",
    "        for i in tree.xpath(\"//datafield[@tag='999']/subfield[@code='a']\"):\n",
    "            all_999s.add(i.text)\n",
    "    for file in os.listdir(parent_dir):\n",
    "        full_path = os.path.join(parent_dir, file)\n",
    "        tree = etree.parse(full_path)\n",
    "        for field in tree.xpath(\"//datafield[@tag='852']\"):\n",
    "            h_subfields = field.xpath('//subfield[@code=\"h\"]')\n",
    "            i_subfields = field.xpath('//subfield[@code=\"i\"]')\n",
    "            if h_subfields and i_subfields:\n",
    "                concat_fields = '{} {}'.format(h_subfields[0].text, i_subfields[0].text).strip()\n",
    "            elif h_subfields and not i_subfields:\n",
    "                for i in h_subfields:\n",
    "                    if i.text:\n",
    "                        concat_fields = i.text.strip()\n",
    "                        break\n",
    "            else:\n",
    "                print('{} has no h or i subfields'.format(file))\n",
    "                concat_files = ''\n",
    "                break\n",
    "#             if len(field.xpath('//subfield[@code=\"h\"]')) > 1 or len(field.xpath('//subfield[@code=\"i\"]')) > 1:\n",
    "#                 print(file)\n",
    "            match = False\n",
    "            for a_999 in all_999s:\n",
    "                if concat_fields.replace(' ', '').replace('.', '').replace(',','').replace(':','').lower() in a_999.replace(' ', '').replace('.', '').replace(',','').replace(':','').lower():\n",
    "                    match = True\n",
    "            if not match:\n",
    "                print(file, '\\t', title, '\\t', concat_fields, '\\t', all_999s)\n",
    "\n",
    "                "
   ]
  },
  {
   "cell_type": "code",
   "execution_count": null,
   "metadata": {},
   "outputs": [],
   "source": []
  }
 ],
 "metadata": {
  "kernelspec": {
   "display_name": "Python 3",
   "language": "python",
   "name": "python3"
  },
  "language_info": {
   "codemirror_mode": {
    "name": "ipython",
    "version": 3
   },
   "file_extension": ".py",
   "mimetype": "text/x-python",
   "name": "python",
   "nbconvert_exporter": "python",
   "pygments_lexer": "ipython3",
   "version": "3.5.2"
  }
 },
 "nbformat": 4,
 "nbformat_minor": 2
}
