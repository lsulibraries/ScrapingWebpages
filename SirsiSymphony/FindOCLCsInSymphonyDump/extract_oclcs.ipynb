{
 "cells": [
  {
   "cell_type": "code",
   "execution_count": null,
   "metadata": {},
   "outputs": [],
   "source": [
    "import re\n",
    "import json"
   ]
  },
  {
   "cell_type": "code",
   "execution_count": null,
   "metadata": {},
   "outputs": [],
   "source": [
    "with open('DOCS_MICRO_oclcs.txt', 'r') as f:\n",
    "    all_lines = f.readlines()"
   ]
  },
  {
   "cell_type": "code",
   "execution_count": null,
   "metadata": {},
   "outputs": [],
   "source": [
    "pattern = re.compile(r'\\(OCoLC\\)[0]+([1-9][0-9]+)\\||\\(OCoLC\\)([1-9][0-9]+)')\n",
    "\n",
    "all_oclcs = set()\n",
    "for line in all_lines:\n",
    "    match = pattern.search(line)\n",
    "    try:\n",
    "        all_oclcs.update(i for i in match.groups() if i)\n",
    "    except AttributeError:\n",
    "        pass\n",
    "\n",
    "print(len(all_oclcs))"
   ]
  },
  {
   "cell_type": "code",
   "execution_count": null,
   "metadata": {},
   "outputs": [],
   "source": [
    "# with open('DOCS_MICRO_oclc.json', 'w') as f:\n",
    "#     oclc_json = json.dumps(list(all_oclcs))\n",
    "#     f.write(oclc_json)"
   ]
  },
  {
   "cell_type": "code",
   "execution_count": null,
   "metadata": {},
   "outputs": [],
   "source": []
  }
 ],
 "metadata": {
  "kernelspec": {
   "display_name": "Python 3",
   "language": "python",
   "name": "python3"
  },
  "language_info": {
   "codemirror_mode": {
    "name": "ipython",
    "version": 3
   },
   "file_extension": ".py",
   "mimetype": "text/x-python",
   "name": "python",
   "nbconvert_exporter": "python",
   "pygments_lexer": "ipython3",
   "version": "3.7.1"
  }
 },
 "nbformat": 4,
 "nbformat_minor": 2
}
