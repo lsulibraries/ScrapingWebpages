{
 "cells": [
  {
   "cell_type": "code",
   "execution_count": null,
   "metadata": {},
   "outputs": [],
   "source": [
    "from openpyxl import load_workbook\n",
    "\n",
    "def parse_xlsx(filename, sheetname):\n",
    "    wb = load_workbook(filename=filename, read_only=True)\n",
    "    ws = wb[sheetname]\n",
    "\n",
    "    sheet_rows = list()\n",
    "    for num, row in enumerate(ws.rows):\n",
    "        if num == 0:\n",
    "            headers = [i.value for i in row]\n",
    "        else:\n",
    "            row_cells = [i.value for i in row]\n",
    "            row_dict = dict(zip(headers, row_cells))\n",
    "            sheet_rows.append(row_dict)\n",
    "    return sheet_rows"
   ]
  },
  {
   "cell_type": "code",
   "execution_count": null,
   "metadata": {},
   "outputs": [],
   "source": [
    "ils_file = '/home/raleigh/Desktop/To_Garrett/borrowing_loan_requests-spring_2018_12-2-17_to_4-30-18_no_userdata.xlsx'\n",
    "ils_requests = parse_xlsx(ils_file, 'Sheet')"
   ]
  },
  {
   "cell_type": "code",
   "execution_count": null,
   "metadata": {},
   "outputs": [],
   "source": [
    "textbook_file = '/home/raleigh/Desktop/To_Garrett/Spring_2018_Textbook_List_no_duplicates.xlsx'\n",
    "textbook_list = parse_xlsx(textbook_file, 'Sheet1')"
   ]
  },
  {
   "cell_type": "code",
   "execution_count": null,
   "metadata": {},
   "outputs": [],
   "source": [
    "from fuzzywuzzy import fuzz\n",
    "from fuzzywuzzy import process"
   ]
  },
  {
   "cell_type": "code",
   "execution_count": null,
   "metadata": {},
   "outputs": [],
   "source": [
    "possible_matches = dict()\n",
    "\n",
    "for ils_request in ils_requests:\n",
    "    ils_title, ils_author, ils_transaction = ils_request['Loan Author'], ils_request['Loan Title'], ils_request['Transaction Number']\n",
    "    for textbook in textbook_list:\n",
    "        textbook_title, textbook_author = textbook['Author'], textbook['Title']\n",
    "        title_ratio = fuzz.token_sort_ratio(ils_title, textbook_title)\n",
    "        author_ratio = fuzz.token_sort_ratio(ils_author, textbook_author)\n",
    "        if title_ratio > 50 and author_ratio > 50:\n",
    "            ils_key = (ils_title, ils_author, ils_transaction)\n",
    "            if not possible_matches.get(ils_key):\n",
    "                possible_matches[ils_key] = [(textbook_title, textbook_author), ]\n",
    "            else:\n",
    "                possible_matches[ils_key].append((textbook_title, textbook_author))\n",
    "                "
   ]
  },
  {
   "cell_type": "markdown",
   "metadata": {},
   "source": [
    "textbook headers 'ISBN', 'Author', 'Title', 'Dept/Course', 'Section', None, 'Cd']"
   ]
  },
  {
   "cell_type": "markdown",
   "metadata": {},
   "source": [
    "ils_request headers \n",
    "['ISSN', 'Loan Author', 'Loan Title', 'Transaction Number', 'Username', 'Request Type', 'Loan Publisher', 'Loan Place', 'Loan Date', 'Loan Edition', 'Photo Journal Title', 'Photo Journal Volume', 'Photo Journal Issue', 'Photo Journal Month', 'Photo Journal Year', 'Photo Journal Inclusive Pages', 'Photo Article Author', 'Photo Article Title', 'Cited In', 'Cited Title', 'Cited Date', 'Cited Volume', 'Cited Pages', 'Not Wanted After', 'Accept Non English', 'Accept Alternate Edition', 'Transaction Status', 'Transaction Date', 'ILL Number', 'ESP Number', 'Lending String', 'Base Fee', 'Per Page', 'Pages', 'Due Date', 'Renewals Allowed', 'Spec Ins', 'Pieces', 'Library Use Only', 'Allow Photocopies', 'Lending Library', 'Reason For Cancellation', 'Call Number', 'Location', 'Maxcost', 'Process Type', 'Item Number', 'Lender Address Number', 'Ariel', 'Patron', 'Photo Item Author', 'Photo Item Place', 'Photo Item Publisher', 'Photo Item Edition', 'Document Type', 'Internal Acct No', 'Priority Shipping', 'Rush', 'Copyright Already Paid', 'Wanted By', 'System ID', 'Replacement Pages', 'IFM Cost', 'Copyright Payment Method', 'Shipping Options', 'CCC Number', 'Intl Shipping Options', 'Shipping Acct No', 'Reference Number', 'Copyright Comp', 'TAddress', 'TAddress2', 'TCity', 'TState', 'TZip', 'TCountry', 'TFax', 'TE Mail Address', 'TNumber', 'Handle With Care', 'Copy With Care', 'Restricted Use', 'Received Via', 'Cancellation Code', 'Billing Category', 'CC Selected', 'Original TN', 'Original NVTGC', 'In Process Date', 'Invoice Number', 'Borrower TN', 'Web Request Form', 'TName', 'TAddress3', 'IFM Paid', 'Billing Amount', 'Connector Error Status', 'Borrower NVTGC', 'CCC Order', 'Shipping Detail', 'ISO Status', 'Odyssey Error Status', 'World Cat LC Number', 'Locations', 'Flag Type', 'Flag Note', 'Creation Date', 'Item Info1', 'Item Info2', 'Item Info3', 'Item Info4', 'Item Info5', 'Special Service', 'Delivery Method', 'Web', 'PMID', 'DOI', 'Last Overdue Notice Sent', 'External Request', 'AE Url', 'AE Password', 'Status', 'Department', 'Delivery Method1', 'Loan Delivery Method', 'Number', 'User Request Limit', 'Organization', 'Fax', 'Shipping Acct No1', 'Article Billing Category', 'Loan Billing Category', 'Country', 'SAddress', 'SAddress2', 'SCity', 'SState', 'SZip', 'Password Hint', 'SCountry', 'RSSID', 'Auth Type', 'Lender String', 'Address Number', 'NVTGC1', 'Library Name', 'Address1', 'Address21', 'Address3', 'Address4', 'BAddress1', 'BAddress2', 'BAddress3', 'BAddress4', 'Fax1', 'Ariel Address', 'Phone1', 'Priority Shipping1', 'Copyright Payer', 'Article Billing Category1', 'Loan Billing Category1', 'Lib Copy Charge', 'Lib Loan Charge', 'Lib Billing Method', 'EFTS', 'Borrowing Dept Email', 'Lending Dept Email', 'Odyssey IP', 'Override IFM', 'ISO', 'ISOIP Address', 'ISO Requester Id', 'ISO User Name', 'ISO Password', 'Web Password', 'Blocked', 'Trusted Sender', 'Trusted Sender Override', 'Override Odyssey', 'Default Shipping Method Loan', 'Default Shipping Method Article', 'ISO Auto Update Address', 'ISO Transport', 'ISOE Mail Address', 'ESP Ship To', 'ESP Bill To', 'RSSID1', 'Odyssey Version', 'Courier Info']\n"
   ]
  },
  {
   "cell_type": "code",
   "execution_count": null,
   "metadata": {},
   "outputs": [],
   "source": [
    "import csv\n",
    "\n",
    "with open('Spring2018_possible_matches.csv', 'w', newline='') as csvfile:\n",
    "    spamwriter = csv.writer(csvfile, delimiter='\\t', quotechar='\"',\n",
    "                           quoting=csv.QUOTE_MINIMAL)\n",
    "    spamwriter.writerow(['ils_author', 'ils_title', 'ils_transaction_number', 'textbook_author', 'textbook_title'])\n",
    "    \n",
    "    for (ils_author, ils_title, ils_transaction), textbook_list in possible_matches.items():\n",
    "        for (textbook_author, textbook_title) in textbook_list:\n",
    "            spamwriter.writerow([ils_author, ils_title, ils_transaction, textbook_author, textbook_title])\n",
    "            "
   ]
  },
  {
   "cell_type": "code",
   "execution_count": null,
   "metadata": {},
   "outputs": [],
   "source": [
    "print(len(possible_matches))"
   ]
  },
  {
   "cell_type": "code",
   "execution_count": null,
   "metadata": {},
   "outputs": [],
   "source": []
  }
 ],
 "metadata": {
  "kernelspec": {
   "display_name": "Python 3",
   "language": "python",
   "name": "python3"
  },
  "language_info": {
   "codemirror_mode": {
    "name": "ipython",
    "version": 3
   },
   "file_extension": ".py",
   "mimetype": "text/x-python",
   "name": "python",
   "nbconvert_exporter": "python",
   "pygments_lexer": "ipython3",
   "version": "3.7.1"
  }
 },
 "nbformat": 4,
 "nbformat_minor": 2
}
