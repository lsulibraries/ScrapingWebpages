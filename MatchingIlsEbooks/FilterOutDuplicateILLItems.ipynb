{
 "cells": [
  {
   "cell_type": "code",
   "execution_count": null,
   "metadata": {},
   "outputs": [],
   "source": [
    "from openpyxl import load_workbook\n",
    "\n",
    "def parse_xlsx(filename, sheetname):\n",
    "    wb = load_workbook(filename=filename, read_only=True)\n",
    "    ws = wb[sheetname]\n",
    "\n",
    "    sheet_rows = list()\n",
    "    for num, row in enumerate(ws.rows):\n",
    "        if num == 0:\n",
    "            headers = [i.value for i in row]\n",
    "        else:\n",
    "            row_cells = [i.value for i in row]\n",
    "            row_dict = dict(zip(headers, row_cells))\n",
    "            sheet_rows.append(row_dict)\n",
    "    return sheet_rows"
   ]
  },
  {
   "cell_type": "code",
   "execution_count": null,
   "metadata": {},
   "outputs": [],
   "source": [
    "source_rows = parse_xlsx('Feb13JacobSource/Turnaround Time - Article - to de-dupe.xlsx', 'Sheet')\n",
    "len(source_rows)"
   ]
  },
  {
   "cell_type": "code",
   "execution_count": null,
   "metadata": {},
   "outputs": [],
   "source": [
    "fulfilleds = [row for row in source_rows if row.get('Changed To') == 'Delivered to Web']\n",
    "len(fulfilleds)"
   ]
  },
  {
   "cell_type": "code",
   "execution_count": null,
   "metadata": {},
   "outputs": [],
   "source": [
    "fulfilled_trans_nums = {row.get('Transaction Number'): 0 for row in fulfilleds}\n",
    "len(fulfilled_trans_nums)"
   ]
  },
  {
   "cell_type": "code",
   "execution_count": null,
   "metadata": {},
   "outputs": [],
   "source": [
    "for item in fulfilleds:\n",
    "    fulfilled_trans_nums[item.get('Transaction Number')] += 1"
   ]
  },
  {
   "cell_type": "code",
   "execution_count": null,
   "metadata": {},
   "outputs": [],
   "source": [
    "duplicate_fulfilleds = {k for k, v in fulfilled_trans_nums.items() if v > 1}\n",
    "len(duplicate_fulfilleds)"
   ]
  },
  {
   "cell_type": "code",
   "execution_count": null,
   "metadata": {},
   "outputs": [],
   "source": [
    "no_delivered = list()\n",
    "just_done = set()\n",
    "\n",
    "\n",
    "for item in source_rows:\n",
    "    trans_num = item.get('Transaction Number')\n",
    "    if not trans_num:\n",
    "        print('whoa', item)\n",
    "    else:\n",
    "        if trans_num not in fulfilled_trans_nums:\n",
    "            if trans_num in just_done:\n",
    "                continue\n",
    "            else:\n",
    "                no_delivered.append(item)\n",
    "                just_done.add(trans_num)"
   ]
  },
  {
   "cell_type": "code",
   "execution_count": null,
   "metadata": {},
   "outputs": [],
   "source": [
    "A = [i for i in source_rows if i.get('Changed To') != 'Request Finished']\n",
    "len(A)"
   ]
  },
  {
   "cell_type": "code",
   "execution_count": null,
   "metadata": {},
   "outputs": [],
   "source": [
    "B = [i for i in A if i.get('Transaction Number') not in duplicate_fulfilleds]\n",
    "len(B)"
   ]
  },
  {
   "cell_type": "code",
   "execution_count": null,
   "metadata": {},
   "outputs": [],
   "source": [
    "C = B + no_delivered\n",
    "len(C)"
   ]
  },
  {
   "cell_type": "code",
   "execution_count": null,
   "metadata": {},
   "outputs": [],
   "source": [
    "holder = dict()\n",
    "for i in C:\n",
    "    trans_num = i.get('Transaction Number')\n",
    "    if trans_num in holder:\n",
    "        holder[trans_num] += 1\n",
    "    else:\n",
    "        holder[trans_num] = 1"
   ]
  },
  {
   "cell_type": "code",
   "execution_count": null,
   "metadata": {
    "scrolled": true
   },
   "outputs": [],
   "source": [
    "for k,v in holder.items():\n",
    "    if v != 1:\n",
    "        print(k)"
   ]
  },
  {
   "cell_type": "code",
   "execution_count": null,
   "metadata": {},
   "outputs": [],
   "source": [
    "import csv\n",
    "\n",
    "with open('/home/raleigh/Desktop/lsugit/ScrapingWebpages/MatchingIlsEbooks/Feb13JacobSource_output.csv', 'w', newline='') as csvfile:\n",
    "    fieldnames = C[0].keys()\n",
    "    spamwriter = csv.DictWriter(csvfile, fieldnames=fieldnames)\n",
    "    spamwriter.writeheader()\n",
    "    for row in C:\n",
    "        spamwriter.writerow(row)"
   ]
  },
  {
   "cell_type": "code",
   "execution_count": null,
   "metadata": {},
   "outputs": [],
   "source": []
  },
  {
   "cell_type": "code",
   "execution_count": null,
   "metadata": {},
   "outputs": [],
   "source": []
  }
 ],
 "metadata": {
  "kernelspec": {
   "display_name": "Python 3",
   "language": "python",
   "name": "python3"
  },
  "language_info": {
   "codemirror_mode": {
    "name": "ipython",
    "version": 3
   },
   "file_extension": ".py",
   "mimetype": "text/x-python",
   "name": "python",
   "nbconvert_exporter": "python",
   "pygments_lexer": "ipython3",
   "version": "3.7.1"
  }
 },
 "nbformat": 4,
 "nbformat_minor": 2
}
