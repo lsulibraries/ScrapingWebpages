{
 "cells": [
  {
   "cell_type": "code",
   "execution_count": null,
   "metadata": {},
   "outputs": [],
   "source": [
    "from fuzzywuzzy import fuzz\n",
    "from fuzzywuzzy import process"
   ]
  },
  {
   "cell_type": "code",
   "execution_count": null,
   "metadata": {},
   "outputs": [],
   "source": [
    "from openpyxl import load_workbook\n",
    "\n",
    "def parse_xlsx(filename, sheetname):\n",
    "    wb = load_workbook(filename=filename, read_only=True)\n",
    "    ws = wb[sheetname]\n",
    "\n",
    "    sheet_rows = list()\n",
    "    for num, row in enumerate(ws.rows):\n",
    "        if num == 0:\n",
    "            headers = [i.value for i in row]\n",
    "        else:\n",
    "            row_cells = [i.value for i in row]\n",
    "            row_dict = dict(zip(headers, row_cells))\n",
    "            sheet_rows.append(row_dict)\n",
    "    return sheet_rows"
   ]
  },
  {
   "cell_type": "code",
   "execution_count": null,
   "metadata": {},
   "outputs": [],
   "source": [
    "main_file = '/home/raleigh/Desktop/MikeFuzzyMatch/ILLRECPUR FY16_thru_FY18_with_usage_thru _12-20-2018.xlsx'\n",
    "main_file_parsed = parse_xlsx(main_file, 'Sheet1')"
   ]
  },
  {
   "cell_type": "code",
   "execution_count": null,
   "metadata": {},
   "outputs": [],
   "source": [
    "supp_file = '/home/raleigh/Desktop/MikeFuzzyMatch/ILL_Borrowing_Requests_(Loan)-1-1-2016-12-31-2018-Patron_Recommendations.xlsx'\n",
    "supp_file_parsed = parse_xlsx(supp_file, 'Sheet1')"
   ]
  },
  {
   "cell_type": "code",
   "execution_count": null,
   "metadata": {},
   "outputs": [],
   "source": [
    "def make_matches(parsed_sheet1, parsed_sheet2):\n",
    "    possible_matches = dict()\n",
    "\n",
    "    for sheet1_row in parsed_sheet1:\n",
    "        sheet1_row_author = sheet1_row['author']\n",
    "        sheet1_row_title = sheet1_row['title']\n",
    "        sheet1_row_id = sheet1_row['itemid']\n",
    "        for sheet2_row in parsed_sheet2:\n",
    "            sheet2_row_author = sheet2_row['Loan Author']\n",
    "            sheet2_row_title = sheet2_row['Loan Title']\n",
    "            title_ratio = fuzz.token_sort_ratio(sheet1_row_title, sheet2_row_title)\n",
    "#             author_ratio = fuzz.token_sort_ratio(sheet1_row_title, sheet2_row_author)\n",
    "            # if title_ration > 50 or (title_ratio > 25 and author_ratio > 25):\n",
    "            if title_ratio > 62:\n",
    "                sheet1_key = (sheet1_row_title, sheet1_row_author, sheet1_row_id)\n",
    "                if not possible_matches.get(sheet1_key):\n",
    "                    possible_matches[sheet1_key] = [(sheet2_row_title, sheet2_row_author), ]\n",
    "                else:\n",
    "                    possible_matches[sheet1_key].append((sheet2_row_title, sheet2_row_author))\n",
    "    return possible_matches"
   ]
  },
  {
   "cell_type": "code",
   "execution_count": null,
   "metadata": {},
   "outputs": [],
   "source": [
    "possible_matches = make_matches(main_file_parsed, supp_file_parsed)"
   ]
  },
  {
   "cell_type": "code",
   "execution_count": null,
   "metadata": {},
   "outputs": [],
   "source": [
    "import csv\n",
    "\n",
    "with open('/home/raleigh/Desktop/MikeFuzzyMatch/possible_matches_62_percent.csv', 'w', newline='') as csvfile:\n",
    "    spamwriter = csv.writer(csvfile, delimiter='\\t', quotechar='\"',\n",
    "                           quoting=csv.QUOTE_MINIMAL)\n",
    "    spamwriter.writerow(['sheet1_title', 'sheet1_author', 'sheet1_transaction_number', 'sheet2_title', 'sheet2_author'])\n",
    "    \n",
    "    for (sheet1_title, sheet1_author, sheet1_id), sheet2_match_list in possible_matches.items():\n",
    "        for sheet2_match in sheet2_match_list:\n",
    "            sheet2_title, sheet2_author = sheet2_match\n",
    "            spamwriter.writerow([sheet1_title, sheet1_author, sheet1_id, sheet2_title, sheet2_author])\n",
    "            "
   ]
  },
  {
   "cell_type": "code",
   "execution_count": null,
   "metadata": {},
   "outputs": [],
   "source": []
  },
  {
   "cell_type": "code",
   "execution_count": null,
   "metadata": {},
   "outputs": [],
   "source": []
  },
  {
   "cell_type": "code",
   "execution_count": null,
   "metadata": {},
   "outputs": [],
   "source": [
    "# Mike removed the duplicates.  Only unique and correct values remain."
   ]
  },
  {
   "cell_type": "code",
   "execution_count": null,
   "metadata": {},
   "outputs": [],
   "source": [
    "clean_matches = '/home/raleigh/Desktop/MikeFuzzyMatch/ILL_Report_Copy_of_possible_matches_62_percent-edited.xlsx'\n",
    "clean_matches_parsed = parse_xlsx(clean_matches, 'possible_matches_62_percent')"
   ]
  },
  {
   "cell_type": "code",
   "execution_count": null,
   "metadata": {},
   "outputs": [],
   "source": [
    "# print(clean_matches_parsed[0])\n",
    "# print(main_file_parsed[0])\n",
    "# print(supp_file_parsed[0])"
   ]
  },
  {
   "cell_type": "code",
   "execution_count": null,
   "metadata": {},
   "outputs": [],
   "source": [
    "both_matches = []\n",
    "for match_item in clean_matches_parsed:\n",
    "    main_file_matches = []\n",
    "    for main_file_item in main_file_parsed:\n",
    "        if (main_file_item['title'] == match_item['sheet1_title']) and (main_file_item['author'] == match_item['sheet1_author']):\n",
    "            if main_file_item in main_file_matches:\n",
    "                continue\n",
    "            else:\n",
    "                main_file_matches.append(main_file_item)\n",
    "    supp_file_matches = []\n",
    "    for supp_file_item in supp_file_parsed:\n",
    "        if (supp_file_item['Loan Title'] == match_item['sheet2_title']) and (supp_file_item['Loan Author'] == match_item['sheet2_author']):\n",
    "            if supp_file_item in supp_file_matches:\n",
    "                continue\n",
    "            else:\n",
    "                supp_file_matches.append(supp_file_item)\n",
    "    both_matches.append((main_file_matches, supp_file_matches))"
   ]
  },
  {
   "cell_type": "code",
   "execution_count": null,
   "metadata": {},
   "outputs": [],
   "source": [
    "import csv\n",
    "\n",
    "with open('/home/raleigh/Desktop/MikeFuzzyMatch/final_output.csv', 'w', newline='') as csvfile:\n",
    "    spamwriter = csv.writer(csvfile, delimiter='\\t', quotechar='\"',\n",
    "                           quoting=csv.QUOTE_MINIMAL)\n",
    "    main_file_headers = list(both_matches[0][0][0].keys())\n",
    "    supp_file_headers = list(both_matches[0][1][0].keys())\n",
    "    headers = main_file_headers + supp_file_headers\n",
    "    spamwriter.writerow(headers)\n",
    "    \n",
    "    for match in both_matches:\n",
    "        for main_file_item in match[0]:\n",
    "            for supp_file_item in match[1]:\n",
    "                row = [main_file_item[i] for i in main_file_headers]\n",
    "                row.extend(supp_file_item[i] for i in supp_file_headers)\n",
    "                spamwriter.writerow(row)"
   ]
  },
  {
   "cell_type": "code",
   "execution_count": null,
   "metadata": {},
   "outputs": [],
   "source": []
  }
 ],
 "metadata": {
  "kernelspec": {
   "display_name": "Python 3",
   "language": "python",
   "name": "python3"
  },
  "language_info": {
   "codemirror_mode": {
    "name": "ipython",
    "version": 3
   },
   "file_extension": ".py",
   "mimetype": "text/x-python",
   "name": "python",
   "nbconvert_exporter": "python",
   "pygments_lexer": "ipython3",
   "version": "3.7.1"
  }
 },
 "nbformat": 4,
 "nbformat_minor": 2
}
