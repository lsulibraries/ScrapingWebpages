{
 "cells": [
  {
   "cell_type": "code",
   "execution_count": null,
   "metadata": {},
   "outputs": [],
   "source": [
    "from fuzzywuzzy import fuzz\n",
    "from fuzzywuzzy import process"
   ]
  },
  {
   "cell_type": "code",
   "execution_count": null,
   "metadata": {},
   "outputs": [],
   "source": [
    "from openpyxl import load_workbook\n",
    "\n",
    "def parse_xlsx(filename, sheetname):\n",
    "    wb = load_workbook(filename=filename, read_only=True)\n",
    "    ws = wb[sheetname]\n",
    "\n",
    "    sheet_rows = list()\n",
    "    for num, row in enumerate(ws.rows):\n",
    "        if num == 0:\n",
    "            headers = [i.value for i in row]\n",
    "        else:\n",
    "            row_cells = [i.value for i in row]\n",
    "            row_dict = dict(zip(headers, row_cells))\n",
    "            sheet_rows.append(row_dict)\n",
    "    return sheet_rows"
   ]
  },
  {
   "cell_type": "code",
   "execution_count": null,
   "metadata": {},
   "outputs": [],
   "source": [
    "main_file = '/home/raleigh/Desktop/MikeFuzzyMatch/ILLRECPUR FY16_thru_FY18_with_usage_thru _12-20-2018.xlsx'\n",
    "main_file_parsed = parse_xlsx(main_file, 'Sheet1')"
   ]
  },
  {
   "cell_type": "code",
   "execution_count": null,
   "metadata": {},
   "outputs": [],
   "source": [
    "supp_file = '/home/raleigh/Desktop/MikeFuzzyMatch/ILL_Borrowing_Requests_(Loan)-1-1-2016-12-31-2018-Patron_Recommendations.xlsx'\n",
    "supp_file_parsed = parse_xlsx(supp_file, 'Sheet1')"
   ]
  },
  {
   "cell_type": "code",
   "execution_count": null,
   "metadata": {},
   "outputs": [],
   "source": [
    "def make_matches(parsed_sheet1, parsed_sheet2):\n",
    "    possible_matches = dict()\n",
    "\n",
    "    for sheet1_row in parsed_sheet1:\n",
    "        sheet1_row_author = sheet1_row['author']\n",
    "        sheet1_row_title = sheet1_row['title']\n",
    "        sheet1_row_id = sheet1_row['itemid']\n",
    "        for sheet2_row in parsed_sheet2:\n",
    "            sheet2_row_author = sheet2_row['Loan Author']\n",
    "            sheet2_row_title = sheet2_row['Loan Title']\n",
    "            title_ratio = fuzz.token_sort_ratio(sheet1_row_title, sheet2_row_title)\n",
    "#             author_ratio = fuzz.token_sort_ratio(sheet1_row_title, sheet2_row_author)\n",
    "            # if title_ration > 50 or (title_ratio > 25 and author_ratio > 25):\n",
    "            if title_ratio > 62:\n",
    "                sheet1_key = (sheet1_row_title, sheet1_row_author, sheet1_row_id)\n",
    "                if not possible_matches.get(sheet1_key):\n",
    "                    possible_matches[sheet1_key] = [(sheet2_row_title, sheet2_row_author), ]\n",
    "                else:\n",
    "                    possible_matches[sheet1_key].append((sheet2_row_title, sheet2_row_author))\n",
    "    return possible_matches"
   ]
  },
  {
   "cell_type": "code",
   "execution_count": null,
   "metadata": {},
   "outputs": [],
   "source": [
    "possible_matches = make_matches(main_file_parsed, supp_file_parsed)"
   ]
  },
  {
   "cell_type": "code",
   "execution_count": null,
   "metadata": {},
   "outputs": [],
   "source": [
    "import csv\n",
    "\n",
    "with open('/home/raleigh/Desktop/MikeFuzzyMatch/possible_matches_62_percent.csv', 'w', newline='') as csvfile:\n",
    "    spamwriter = csv.writer(csvfile, delimiter='\\t', quotechar='\"',\n",
    "                           quoting=csv.QUOTE_MINIMAL)\n",
    "    spamwriter.writerow(['sheet1_title', 'sheet1_author', 'sheet1_transaction_number', 'sheet2_title', 'sheet2_author'])\n",
    "    \n",
    "    for (sheet1_title, sheet1_author, sheet1_id), sheet2_match_list in possible_matches.items():\n",
    "        for sheet2_match in sheet2_match_list:\n",
    "            sheet2_title, sheet2_author = sheet2_match\n",
    "            spamwriter.writerow([sheet1_title, sheet1_author, sheet1_id, sheet2_title, sheet2_author])\n",
    "            "
   ]
  },
  {
   "cell_type": "code",
   "execution_count": null,
   "metadata": {},
   "outputs": [],
   "source": []
  }
 ],
 "metadata": {
  "kernelspec": {
   "display_name": "Python 3",
   "language": "python",
   "name": "python3"
  },
  "language_info": {
   "codemirror_mode": {
    "name": "ipython",
    "version": 3
   },
   "file_extension": ".py",
   "mimetype": "text/x-python",
   "name": "python",
   "nbconvert_exporter": "python",
   "pygments_lexer": "ipython3",
   "version": "3.7.1"
  }
 },
 "nbformat": 4,
 "nbformat_minor": 2
}
