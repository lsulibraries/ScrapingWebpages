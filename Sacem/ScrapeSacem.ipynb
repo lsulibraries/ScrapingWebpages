{
 "cells": [
  {
   "cell_type": "code",
   "execution_count": null,
   "metadata": {},
   "outputs": [],
   "source": [
    "import time\n",
    "import csv\n",
    "\n",
    "from selenium import webdriver\n",
    "from selenium.webdriver import ActionChains\n",
    "from selenium.webdriver.common.keys import Keys\n",
    "from selenium.webdriver.common.by import By\n",
    "from selenium.webdriver.support.ui import WebDriverWait\n",
    "from selenium.webdriver.support import expected_conditions as EC\n",
    "from selenium.common.exceptions import NoSuchElementException"
   ]
  },
  {
   "cell_type": "code",
   "execution_count": null,
   "metadata": {},
   "outputs": [],
   "source": [
    "driver = webdriver.Firefox()"
   ]
  },
  {
   "cell_type": "code",
   "execution_count": null,
   "metadata": {},
   "outputs": [],
   "source": [
    "\n",
    "def open_front_page():\n",
    "    driver.get(\"https://repertoire.sacem.fr/en/results?filters=parties&query=Eugene%20BOZZA#searchBtn\", )\n",
    "\n",
    "def accept_cookies():\n",
    "    xpath_code = \"//button[contains(text(), 'Accept Cookies')]\"\n",
    "    link = driver.find_element_by_xpath(xpath_code)\n",
    "    link.click()\n",
    "    \n",
    "def click_show_following():\n",
    "    xpath_code = \"//button[contains(text(), 'show the following works')]\"\n",
    "    try:\n",
    "        link = driver.find_element_by_xpath(xpath_code)\n",
    "    except NoSuchElementException:\n",
    "        return\n",
    "    link.click()\n",
    "\n",
    "def find_all_see_details():\n",
    "    xpath_code = \"//a[contains(text(), 'See detail')]\"\n",
    "    links = driver.find_elements_by_xpath(xpath_code)\n",
    "    return links   \n",
    "    \n",
    "# def go_to_item_details():\n",
    "#     driver."
   ]
  },
  {
   "cell_type": "code",
   "execution_count": null,
   "metadata": {},
   "outputs": [],
   "source": [
    "open_front_page()"
   ]
  },
  {
   "cell_type": "code",
   "execution_count": null,
   "metadata": {},
   "outputs": [],
   "source": [
    "accept_cookies()"
   ]
  },
  {
   "cell_type": "code",
   "execution_count": null,
   "metadata": {},
   "outputs": [],
   "source": [
    "for _ in range(20):\n",
    "    click_show_following()\n",
    "    time.sleep(1)"
   ]
  },
  {
   "cell_type": "code",
   "execution_count": null,
   "metadata": {},
   "outputs": [],
   "source": [
    "all_detail_links = find_all_see_details()\n",
    "print(len(all_detail_links))"
   ]
  },
  {
   "cell_type": "code",
   "execution_count": null,
   "metadata": {},
   "outputs": [],
   "source": [
    "link_a = all_detail_links[0].get_attribute('href')\n",
    "driver.execute_script(f\"window.open('{link_a}', 'new_window')\")"
   ]
  },
  {
   "cell_type": "code",
   "execution_count": null,
   "metadata": {},
   "outputs": [],
   "source": [
    "whiteblc = driver.find_elements_by_xpath('//*[@data-reactid=\".5.0\"]')\n",
    "print(len(whiteblc))\n",
    "for clump in whiteblc:\n",
    "    print(dir(clump))\n",
    "    print(clump.get_attribute('class'))\n",
    "    try:\n",
    "        interested_rows = clump.find_elements_by_class_name('tooltip')\n",
    "    except NoSuchElementException:\n",
    "        pass\n",
    "print(len(interested_rows))\n",
    "# print(interested_rows[0].text)\n",
    "# for row in interested_rows:\n",
    "# interested_clumps = interested_rows.find_element_by_class_name()\n",
    "\n",
    "# interested_parties = {'composer': }"
   ]
  },
  {
   "cell_type": "code",
   "execution_count": null,
   "metadata": {},
   "outputs": [],
   "source": []
  }
 ],
 "metadata": {
  "kernelspec": {
   "display_name": "Python 3",
   "language": "python",
   "name": "python3"
  },
  "language_info": {
   "codemirror_mode": {
    "name": "ipython",
    "version": 3
   },
   "file_extension": ".py",
   "mimetype": "text/x-python",
   "name": "python",
   "nbconvert_exporter": "python",
   "pygments_lexer": "ipython3",
   "version": "3.6.7"
  }
 },
 "nbformat": 4,
 "nbformat_minor": 2
}
