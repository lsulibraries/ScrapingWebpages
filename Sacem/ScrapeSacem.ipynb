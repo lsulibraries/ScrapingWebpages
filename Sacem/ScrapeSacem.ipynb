{
 "cells": [
  {
   "cell_type": "code",
   "execution_count": null,
   "metadata": {},
   "outputs": [],
   "source": [
    "import time\n",
    "import csv\n",
    "\n",
    "from selenium import webdriver\n",
    "from selenium.webdriver import ActionChains\n",
    "from selenium.webdriver.common.keys import Keys\n",
    "from selenium.webdriver.common.by import By\n",
    "from selenium.webdriver.support.ui import WebDriverWait\n",
    "from selenium.webdriver.support import expected_conditions as EC\n",
    "from selenium.common.exceptions import NoSuchElementException"
   ]
  },
  {
   "cell_type": "code",
   "execution_count": null,
   "metadata": {},
   "outputs": [],
   "source": [
    "\n",
    "def open_front_page():\n",
    "    driver.get(\"https://repertoire.sacem.fr/en/results?filters=parties&query=Eugene%20BOZZA#searchBtn\", )\n",
    "\n",
    "def accept_cookies():\n",
    "    xpath_code = \"//button[contains(text(), 'Accept Cookies')]\"\n",
    "    link = driver.find_element_by_xpath(xpath_code)\n",
    "    link.click()\n",
    "    \n",
    "def click_show_following():\n",
    "    xpath_code = \"//button[contains(text(), 'show the following works')]\"\n",
    "    try:\n",
    "        link = driver.find_element_by_xpath(xpath_code)\n",
    "    except NoSuchElementException:\n",
    "        return\n",
    "    link.click()\n",
    "\n",
    "def find_all_see_details():\n",
    "    xpath_code = \"//a[contains(text(), 'See detail')]\"\n",
    "    links = driver.find_elements_by_xpath(xpath_code)\n",
    "    return links"
   ]
  },
  {
   "cell_type": "code",
   "execution_count": null,
   "metadata": {},
   "outputs": [],
   "source": [
    "def do_an_item(link):\n",
    "    driver.execute_script(f\"window.open('{link}', 'new_window')\")\n",
    "    window_before = driver.window_handles[0]\n",
    "    window_after = driver.window_handles[1]\n",
    "    driver.switch_to.window(window_after)\n",
    "    \n",
    "    time.sleep(3)\n",
    "    author_block = driver.find_elements_by_xpath('//h2[@data-reactid=\".5.1.0\"]')\n",
    "    if len(author_block) != 1:\n",
    "        print(f\"not one author block -- danger {link}\")\n",
    "    author = author_block[0].text\n",
    "    iswc_block = driver.find_elements_by_xpath('//p[@data-reactid=\".5.1.2\"]')\n",
    "    if len(iswc_block) != 1:\n",
    "        print(f\"not one iswc block -- danger {link}\")\n",
    "    iswc = iswc_block[0].text\n",
    "    driver.close()\n",
    "    driver.switch_to.window(window_before)\n",
    "\n",
    "    return author, iswc"
   ]
  },
  {
   "cell_type": "code",
   "execution_count": null,
   "metadata": {},
   "outputs": [],
   "source": [
    "def do_all_items(all_detail_links):\n",
    "    all_data = []\n",
    "    for link_elem in all_detail_links:\n",
    "        link = link_elem.get_attribute('href')\n",
    "        title, iswc = do_an_item(link)\n",
    "        all_data.append({'title': title, 'iswc': iswc})\n",
    "    return all_data"
   ]
  },
  {
   "cell_type": "code",
   "execution_count": null,
   "metadata": {},
   "outputs": [],
   "source": [
    "driver = webdriver.Firefox()\n",
    "\n",
    "open_front_page()\n",
    "time.sleep(5)\n",
    "accept_cookies()\n",
    "time.sleep(3)\n",
    "for _ in range(20):\n",
    "    click_show_following()\n",
    "    time.sleep(1)\n",
    "\n",
    "all_detail_links = find_all_see_details()\n",
    "all_data = do_all_items(all_detail_links)"
   ]
  },
  {
   "cell_type": "code",
   "execution_count": null,
   "metadata": {},
   "outputs": [],
   "source": [
    "all_data[0]"
   ]
  },
  {
   "cell_type": "code",
   "execution_count": null,
   "metadata": {},
   "outputs": [],
   "source": [
    "import csv"
   ]
  },
  {
   "cell_type": "code",
   "execution_count": null,
   "metadata": {},
   "outputs": [],
   "source": [
    "with open('/home/raleigh/Desktop/output.csv', 'w', newline='') as csvfile:\n",
    "    spamwriter = csv.writer(csvfile, delimiter=\",\",\n",
    "                           quotechar='\"', quoting=csv.QUOTE_MINIMAL)\n",
    "    spamwriter.writerow(['title', 'iswc'])\n",
    "    for pair in all_data:\n",
    "        spamwriter.writerow([pair['title'], pair['iswc']])"
   ]
  },
  {
   "cell_type": "code",
   "execution_count": null,
   "metadata": {},
   "outputs": [],
   "source": []
  }
 ],
 "metadata": {
  "kernelspec": {
   "display_name": "Python 3",
   "language": "python",
   "name": "python3"
  },
  "language_info": {
   "codemirror_mode": {
    "name": "ipython",
    "version": 3
   },
   "file_extension": ".py",
   "mimetype": "text/x-python",
   "name": "python",
   "nbconvert_exporter": "python",
   "pygments_lexer": "ipython3",
   "version": "3.7.1"
  }
 },
 "nbformat": 4,
 "nbformat_minor": 2
}
