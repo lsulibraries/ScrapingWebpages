{
 "cells": [
  {
   "cell_type": "code",
   "execution_count": null,
   "metadata": {},
   "outputs": [],
   "source": [
    "import json\n",
    "import getpass\n",
    "import logging\n",
    "import http.client as http_client\n",
    "import time\n",
    "\n",
    "import requests\n",
    "from requests.adapters import HTTPAdapter\n",
    "from requests.packages.urllib3.util.retry import Retry\n",
    "from bs4 import BeautifulSoup as soup\n",
    "\n",
    "\n",
    "from selenium import webdriver\n",
    "from selenium.webdriver.common.keys import Keys\n",
    "\n",
    "from selenium import webdriver\n",
    "from selenium.webdriver.common.by import By\n",
    "from selenium.webdriver.support.ui import WebDriverWait\n",
    "from selenium.webdriver.support import expected_conditions as EC"
   ]
  },
  {
   "cell_type": "code",
   "execution_count": null,
   "metadata": {},
   "outputs": [],
   "source": []
  },
  {
   "cell_type": "code",
   "execution_count": null,
   "metadata": {},
   "outputs": [],
   "source": []
  },
  {
   "cell_type": "code",
   "execution_count": null,
   "metadata": {},
   "outputs": [],
   "source": [
    "title_name = 'InfoWorld'\n",
    "driver = webdriver.Firefox()\n",
    "#search page loading\n",
    "driver.get(\"http://ulrichsweb.serialssolutions.com/widget/search/\", )\n",
    "assert \"Search\" in driver.title\n",
    "search_bar = WebDriverWait(driver, 15).until(\n",
    "    EC.presence_of_element_located((By.NAME, \"query\"))\n",
    ")\n",
    "search_bar.clear()\n",
    "search_bar.send_keys(title_name)\n",
    "search_bar.send_keys(Keys.RETURN)\n",
    "#results page loading\n",
    "time.sleep(10)\n",
    "print(driver.title)\n",
    "assert \"Search Results\" in driver.title\n",
    "match_labels = driver.find_elements_by_xpath('//a[@class=\"titleDetailsLink\"][text()=\"{}\"]'.format(title_name))\n",
    "elec_labels = [i for i in match_labels if has_elec(i)]\n",
    "print('there are {} candidates, with the hrefs of {}'.format(len(elec_labels), [i.get_attribute('href') for i in elec_labels]))\n",
    "elec_labels[0].click()\n",
    "#details page loading\n",
    "time.sleep(10)\n",
    "click_on_headers(driver)\n",
    "time.sleep(10)\n",
    "title = driver.find_element_by_xpath('//span[@id=\"title_title\"]/../../td').text\n",
    "vendor_publisher = driver.find_element_by_xpath('//div[@id=\"publisherDetailsContainer\"]/table/tbody/tr/td[not(text()=\"Parent\")]/b[contains(text(), \"Commercial Publisher\")]/../../following-sibling::tr/td').text\n",
    "provider = ''\n",
    "url = driver.find_element_by_xpath('//div[@id=\"publisherDetailsContainer\"]/table/tbody/tr/td[contains(text(), \"Website:\")]/a').get_attribute('href')\n",
    "parent_name = driver.find_element_by_xpath('//div[@id=\"publisherDetailsContainer\"]/table/tbody/tr/td/b[contains(text(), \"Commercial Publisher\")]/..[contains(normalize-space(.), \"Parent\")]/../following-sibling::tr/td').text\n",
    "contact_email = ''\n",
    "contact_phone = ''"
   ]
  },
  {
   "cell_type": "code",
   "execution_count": null,
   "metadata": {},
   "outputs": [],
   "source": [
    "def click_on_headers(driver):\n",
    "    dropdown_headers = driver.find_elements_by_xpath('//div[@class=\"titleDetailsHeader\"]/span/img[@name=\"rt\"]')\n",
    "    for i in dropdown_headers:\n",
    "        i.click()"
   ]
  },
  {
   "cell_type": "code",
   "execution_count": null,
   "metadata": {},
   "outputs": [],
   "source": [
    "dropdown_headers = driver.find_elements_by_xpath('//div[@class=\"titleDetailsHeader\"]/span/img[@name=\"rt\"]')\n",
    "for i in dropdown_headers:\n",
    "    print(dir(i))\n",
    "    i.click()"
   ]
  },
  {
   "cell_type": "code",
   "execution_count": null,
   "metadata": {},
   "outputs": [],
   "source": []
  },
  {
   "cell_type": "code",
   "execution_count": null,
   "metadata": {},
   "outputs": [],
   "source": [
    "def has_elec(elem):\n",
    "    if elem.find_elements_by_xpath('../../td[@aria-describedby=\"list_Online\"]/img'):\n",
    "        return True\n",
    "    return False"
   ]
  },
  {
   "cell_type": "code",
   "execution_count": null,
   "metadata": {},
   "outputs": [],
   "source": [
    "has_electronic = driver.find_elements_by_xpath('//a[@class=\"titleDetailsLink\"][text()=\"{}\"]/../../td[@aria-describedby=\"list_Online\"]/img'.format(title_name))"
   ]
  },
  {
   "cell_type": "code",
   "execution_count": null,
   "metadata": {},
   "outputs": [],
   "source": [
    "parent_name = driver.find_element_by_xpath('//div[@id=\"publisherDetailsContainer\"]/table/tbody/tr/td/b[contains(text(), \"Commercial Publisher\")]/..[contains(normalize-space(.), \"Parent\")]/../following-sibling::tr/td')"
   ]
  },
  {
   "cell_type": "code",
   "execution_count": null,
   "metadata": {
    "scrolled": true
   },
   "outputs": [],
   "source": [
    "print(parent_name.text)"
   ]
  },
  {
   "cell_type": "code",
   "execution_count": null,
   "metadata": {
    "scrolled": true
   },
   "outputs": [],
   "source": [
    "for i in (title, vendor_publisher, provider, url, parent_name, contact_email, contact_phone):\n",
    "    print(i)"
   ]
  },
  {
   "cell_type": "code",
   "execution_count": null,
   "metadata": {},
   "outputs": [],
   "source": [
    "def do_a_title(title_name):\n",
    "    driver = webdriver.Firefox()\n",
    "    load_results_page(driver, title_name)\n",
    "    load_detail_page(driver, title_name)"
   ]
  },
  {
   "cell_type": "code",
   "execution_count": null,
   "metadata": {},
   "outputs": [],
   "source": [
    "def load_results_page(driver, title_name):\n",
    "    driver.get(\"http://ulrichsweb.serialssolutions.com/widget/search/\", )\n",
    "    assert \"Search\" in driver.title\n",
    "    search_bar = WebDriverWait(driver, 30).until(\n",
    "        EC.presence_of_element_located((By.NAME, \"query\"))\n",
    "    )\n",
    "    search_bar.clear()\n",
    "    search_bar.send_keys(title_name)\n",
    "    search_bar.send_keys(Keys.RETURN)"
   ]
  },
  {
   "cell_type": "code",
   "execution_count": null,
   "metadata": {},
   "outputs": [],
   "source": [
    "def load_detail_page(driver, title_name):\n",
    "    title_label = WebDriverWait(driver, 30).until(\n",
    "        EC.presence_of_element_located((By.CLASS_NAME, \"titleDetailsLink\"))\n",
    "    )\n",
    "    print(driver.title)\n",
    "    assert \"Search Results\" in driver.title\n",
    "    match_labels = driver.find_elements_by_link_text(title_name)\n",
    "    print(match_labels)"
   ]
  },
  {
   "cell_type": "code",
   "execution_count": null,
   "metadata": {},
   "outputs": [],
   "source": []
  }
 ],
 "metadata": {
  "kernelspec": {
   "display_name": "Python 3",
   "language": "python",
   "name": "python3"
  },
  "language_info": {
   "codemirror_mode": {
    "name": "ipython",
    "version": 3
   },
   "file_extension": ".py",
   "mimetype": "text/x-python",
   "name": "python",
   "nbconvert_exporter": "python",
   "pygments_lexer": "ipython3",
   "version": "3.6.7"
  }
 },
 "nbformat": 4,
 "nbformat_minor": 2
}
