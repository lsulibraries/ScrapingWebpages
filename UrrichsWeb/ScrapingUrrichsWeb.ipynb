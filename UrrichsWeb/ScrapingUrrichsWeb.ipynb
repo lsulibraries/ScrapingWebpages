{
 "cells": [
  {
   "cell_type": "code",
   "execution_count": null,
   "metadata": {},
   "outputs": [],
   "source": [
    "import getpass\n",
    "import time\n",
    "\n",
    "from selenium import webdriver\n",
    "from selenium.webdriver.common.keys import Keys\n",
    "from selenium.webdriver.common.by import By\n",
    "from selenium.webdriver.support.ui import WebDriverWait\n",
    "from selenium.webdriver.support import expected_conditions as EC\n",
    "from selenium.common.exceptions import NoSuchElementException"
   ]
  },
  {
   "cell_type": "code",
   "execution_count": null,
   "metadata": {},
   "outputs": [],
   "source": [
    "def has_elec(elem):\n",
    "    if elem.find_elements_by_xpath('../../td[@aria-describedby=\"list_Online\"]/img'):\n",
    "        return True\n",
    "    return False"
   ]
  },
  {
   "cell_type": "code",
   "execution_count": null,
   "metadata": {},
   "outputs": [],
   "source": [
    "def click_on_headers(driver):\n",
    "    dropdown_headers = driver.find_elements_by_xpath('//div[@class=\"titleDetailsHeader\"]/span/img[@name=\"rt\"]')\n",
    "    for i in dropdown_headers:\n",
    "        i.click()"
   ]
  },
  {
   "cell_type": "code",
   "execution_count": null,
   "metadata": {},
   "outputs": [],
   "source": [
    "def get_title(driver):\n",
    "    try:\n",
    "        title = driver.find_element_by_xpath('//span[@id=\"title_title\"]/../../td').text\n",
    "    except NoSuchElementException:\n",
    "        title = ''\n",
    "    return title.strip()"
   ]
  },
  {
   "cell_type": "code",
   "execution_count": null,
   "metadata": {},
   "outputs": [],
   "source": [
    "def get_vendor_publisher(driver):\n",
    "    try:\n",
    "        vendor_publisher = driver.find_element_by_xpath('//div[@id=\"publisherDetailsContainer\"]/table/tbody/tr/td[not(text()=\"Parent\")]/b[contains(text(), \"Commercial Publisher\")]/../../following-sibling::tr/td').text\n",
    "    except NoSuchElementException:\n",
    "        vendor_publisher = ''\n",
    "    return vendor_publisher.strip()"
   ]
  },
  {
   "cell_type": "code",
   "execution_count": null,
   "metadata": {},
   "outputs": [],
   "source": [
    "def get_url(driver):\n",
    "    try:\n",
    "        url = driver.find_element_by_xpath('//div[@id=\"publisherDetailsContainer\"]/table/tbody/tr/td[contains(text(), \"Website:\")]/a').get_attribute('href')\n",
    "    except NoSuchElementException:\n",
    "        url = ''\n",
    "    return url"
   ]
  },
  {
   "cell_type": "code",
   "execution_count": null,
   "metadata": {},
   "outputs": [],
   "source": [
    "def get_parent_name(driver):\n",
    "    try:\n",
    "        parent_name = driver.find_element_by_xpath('//div[@id=\"publisherDetailsContainer\"]/table/tbody/tr/td/b[contains(text(), \"Commercial Publisher\")]/..[contains(normalize-space(.), \"Parent\")]/../following-sibling::tr/td').text\n",
    "    except NoSuchElementException:\n",
    "        parent_name = ''\n",
    "    return parent_name.strip()"
   ]
  },
  {
   "cell_type": "code",
   "execution_count": null,
   "metadata": {},
   "outputs": [],
   "source": [
    "def get_phone_number(driver):\n",
    "    try:\n",
    "        phone = driver.find_element_by_xpath('//div[@id=\"publisherDetailsContainer\"]/table/tbody/tr/td[contains(text(), \"Phone\")]').text\n",
    "    except NoSuchElementException:\n",
    "        phone = ''\n",
    "    formatted_phone = phone.replace('Phone:', '').strip()\n",
    "    return formatted_phone"
   ]
  },
  {
   "cell_type": "code",
   "execution_count": null,
   "metadata": {},
   "outputs": [],
   "source": [
    "def get_email(driver):\n",
    "    try:\n",
    "        email = driver.find_element_by_xpath('//div[@id=\"publisherDetailsContainer\"]/table/tbody/tr/td[contains(text(), \"Email:\")]').text\n",
    "    except NoSuchElementException:\n",
    "        email = ''\n",
    "    formatted_email = email.replace('Email:', '').strip()\n",
    "    return formatted_email"
   ]
  },
  {
   "cell_type": "code",
   "execution_count": null,
   "metadata": {},
   "outputs": [],
   "source": [
    "driver = webdriver.Firefox()\n",
    "#search page loading\n",
    "driver.get(\"http://ulrichsweb.serialssolutions.com.libezp.lib.lsu.edu/widget/search/\", )"
   ]
  },
  {
   "cell_type": "code",
   "execution_count": null,
   "metadata": {},
   "outputs": [],
   "source": [
    "while \"Search\" not in driver.title:\n",
    "    time.sleep(5)\n",
    "search_bar = WebDriverWait(driver, 15).until(\n",
    "    EC.presence_of_element_located((By.NAME, \"query\"))\n",
    ")"
   ]
  },
  {
   "cell_type": "code",
   "execution_count": null,
   "metadata": {},
   "outputs": [],
   "source": [
    "title_name = 'New Orleans Review'\n",
    "\n",
    "search_bar.clear()\n",
    "search_bar.send_keys(title_name)\n",
    "search_bar.send_keys(Keys.RETURN)\n",
    "#results page loading\n",
    "time.sleep(5)\n",
    "assert \"Search Results\" in driver.title\n",
    "match_labels = driver.find_elements_by_xpath('//a[@class=\"titleDetailsLink\"][text()=\"{}\"]'.format(title_name))\n",
    "elec_labels = [i for i in match_labels if has_elec(i)]\n",
    "elec_labels[0].click()\n",
    "#details page loading\n",
    "time.sleep(5)"
   ]
  },
  {
   "cell_type": "code",
   "execution_count": null,
   "metadata": {},
   "outputs": [],
   "source": [
    "click_on_headers(driver)\n",
    "time.sleep(5)"
   ]
  },
  {
   "cell_type": "code",
   "execution_count": null,
   "metadata": {},
   "outputs": [],
   "source": [
    "title = get_title(driver)\n",
    "vendor_publisher = get_vendor_publisher(driver)\n",
    "provider = 'EBSCO'\n",
    "url = get_url(driver)\n",
    "parent_name = get_parent_name(driver)\n",
    "contact_email = get_email(driver)\n",
    "contact_phone = get_phone_number(driver)"
   ]
  },
  {
   "cell_type": "code",
   "execution_count": null,
   "metadata": {},
   "outputs": [],
   "source": [
    "for i in (title, vendor_publisher, provider, url, parent_name, contact_email, contact_phone):\n",
    "    print(i or \"\\t\\tnot yet found\")"
   ]
  },
  {
   "cell_type": "code",
   "execution_count": null,
   "metadata": {},
   "outputs": [],
   "source": [
    "email = driver.find_element_by_xpath('//div[@id=\"publisherDetailsContainer\"]/table/tbody/tr/td[contains(text(), \"Email:\")]')"
   ]
  },
  {
   "cell_type": "code",
   "execution_count": null,
   "metadata": {
    "scrolled": true
   },
   "outputs": [],
   "source": [
    "print(email.text)"
   ]
  },
  {
   "cell_type": "code",
   "execution_count": null,
   "metadata": {},
   "outputs": [],
   "source": [
    "driver.get(\"http://ulrichsweb.serialssolutions.com.libezp.lib.lsu.edu\", )"
   ]
  },
  {
   "cell_type": "code",
   "execution_count": null,
   "metadata": {},
   "outputs": [],
   "source": []
  }
 ],
 "metadata": {
  "kernelspec": {
   "display_name": "Python 3",
   "language": "python",
   "name": "python3"
  },
  "language_info": {
   "codemirror_mode": {
    "name": "ipython",
    "version": 3
   },
   "file_extension": ".py",
   "mimetype": "text/x-python",
   "name": "python",
   "nbconvert_exporter": "python",
   "pygments_lexer": "ipython3",
   "version": "3.6.7"
  }
 },
 "nbformat": 4,
 "nbformat_minor": 2
}
