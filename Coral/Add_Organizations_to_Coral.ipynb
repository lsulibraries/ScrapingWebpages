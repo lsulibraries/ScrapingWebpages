{
 "cells": [
  {
   "cell_type": "code",
   "execution_count": null,
   "metadata": {},
   "outputs": [],
   "source": [
    "import getpass\n",
    "import time\n",
    "\n",
    "from selenium import webdriver\n",
    "from selenium.webdriver.common.keys import Keys\n",
    "from selenium.webdriver.common.by import By\n",
    "from selenium.webdriver.support.ui import WebDriverWait\n",
    "from selenium.webdriver.support import expected_conditions as EC\n",
    "from selenium.common.exceptions import NoSuchElementException\n",
    "\n",
    "from titlecase import titlecase"
   ]
  },
  {
   "cell_type": "code",
   "execution_count": null,
   "metadata": {},
   "outputs": [],
   "source": [
    "# Read and parse the source spreadsheet\n",
    "\n",
    "from openpyxl import load_workbook\n",
    "wb = load_workbook(filename='Organizations_module.xlsx')\n",
    "ws = wb['output']\n",
    "\n",
    "source_data = list()\n",
    "for num, row in enumerate(ws.rows):\n",
    "    if num == 0:\n",
    "        headers = [i.value for i in row]\n",
    "    else:\n",
    "        source_data.append(dict(zip(headers, [i.value for i in row])))"
   ]
  },
  {
   "cell_type": "code",
   "execution_count": null,
   "metadata": {},
   "outputs": [],
   "source": [
    "def format_publishers(source_data):\n",
    "    for row_dict in source_data:\n",
    "        row_dict['formatted_publisher'] = titlecase(row_dict['Publisher'])\n",
    "format_publishers(source_data)"
   ]
  },
  {
   "cell_type": "code",
   "execution_count": null,
   "metadata": {},
   "outputs": [],
   "source": []
  },
  {
   "cell_type": "code",
   "execution_count": null,
   "metadata": {},
   "outputs": [],
   "source": []
  },
  {
   "cell_type": "code",
   "execution_count": null,
   "metadata": {},
   "outputs": [],
   "source": [
    "driver = webdriver.Firefox()\n",
    "def open_site():\n",
    "    driver.get(\"https://lsu-erm.bc.sirsidynix.net/auth/?service=/organizations/\")\n",
    "\n",
    "open_site()"
   ]
  },
  {
   "cell_type": "code",
   "execution_count": null,
   "metadata": {},
   "outputs": [],
   "source": [
    "# Split into those not yet found in the system and those found\n",
    "\n",
    "def open_resultspage_by_partial_word(partial_word):\n",
    "    input_box = driver.find_element_by_id('searchOrganizationName')\n",
    "    input_box.clear()\n",
    "    input_box.send_keys(partial_word)\n",
    "    input_box.send_keys(Keys.RETURN);\n",
    "\n",
    "def org_in_dataTable(org):\n",
    "    try:\n",
    "        truncated_org = org[:15]\n",
    "        link = driver.find_element_by_xpath(f'//table[@class=\"dataTable\"]/tbody/tr/td/a[contains(text(), \"{truncated_org}\")]')\n",
    "        if link.text.strip() == org.strip():\n",
    "            return link\n",
    "        else:\n",
    "            return False\n",
    "    except NoSuchElementException:\n",
    "        # use false to indicate no recorded org with that title\n",
    "        return False\n",
    "\n",
    "founds = list()\n",
    "not_founds = list()\n",
    "\n",
    "for item in source_data:\n",
    "    organization = item['formatted_publisher']\n",
    "    open_resultspage_by_partial_word(organization)\n",
    "    time.sleep(1)\n",
    "    match = org_in_dataTable(organization)\n",
    "    if match:\n",
    "        founds.append(item)\n",
    "    else:\n",
    "        not_founds.append(item)"
   ]
  },
  {
   "cell_type": "code",
   "execution_count": null,
   "metadata": {},
   "outputs": [],
   "source": []
  },
  {
   "cell_type": "code",
   "execution_count": null,
   "metadata": {},
   "outputs": [],
   "source": [
    "def go_to_homepage():\n",
    "    driver.get(\"https://lsu-erm.bc.sirsidynix.net/organizations/\")\n",
    "\n",
    "def enter_org_page(org):\n",
    "    link = driver.find_element_by_xpath(f'//table[@class=\"dataTable\"]/tbody/tr/td/a[text()=\"{org}\"]')\n",
    "    link.click()\n",
    "    \n",
    "def make_new_org(item):\n",
    "    new_org_link = driver.find_element_by_xpath('//div[@class=\"main-menu-link\"]/span[contains(text(), \"New Organization\")]')\n",
    "    new_org_link.click()\n",
    "\n",
    "def edit_existing_org():\n",
    "    existing_org_link = driver.find_element_by_xpath('//a[@id=\"editOrganization\"]')\n",
    "    existing_org_link.click()\n",
    "    \n",
    "def add_org_info(item):\n",
    "    name_field = driver.find_element_by_xpath('//input[@id=\"organizationName\"]')\n",
    "    name_field.clear()\n",
    "    name_field.send_keys(item['formatted_publisher'])\n",
    "    parent_field = driver.find_element_by_id(\"parentOrganization\")\n",
    "    parent_field.clear()\n",
    "    parent_field.send_keys(item['parent_name'] or '')\n",
    "    url_field = driver.find_element_by_xpath('//input[@id=\"companyURL\"]')\n",
    "    url_field.clear()\n",
    "    url_field.send_keys(item['url'])\n",
    "    publisher_toggle = driver.find_element_by_xpath('//input[@id=\"5\"]')\n",
    "    publisher_toggle.click()\n",
    "    vendor_toggle = driver.find_element_by_xpath('//input[@id=\"6\"]')\n",
    "    vendor_toggle.click()\n",
    "    submit_button = driver.find_element_by_xpath('//input[@id=\"submitOrganizationChanges\"]')\n",
    "    submit_button.click()\n",
    "    \n",
    "def add_contact_info(item):\n",
    "    contact_button = driver.find_element_by_xpath('//a[@class=\"showContacts\"]')\n",
    "    contact_button.click()\n",
    "    time.sleep(2)\n",
    "    add_contact_link = driver.find_element_by_xpath('//a[contains(text(), \"add contact\")]')\n",
    "    add_contact_link.click()\n",
    "    time.sleep(2)\n",
    "    name_field = driver.find_element_by_id(\"contactName\")\n",
    "    name_field.clear()\n",
    "    name_field.send_keys('General Contact')\n",
    "    email_field = driver.find_element_by_xpath('//input[@id=\"emailAddress\"]')\n",
    "    email_field.clear()\n",
    "    email_field.send_keys(item['contact_email'])\n",
    "    phone_field = driver.find_element_by_xpath('//input[@id=\"phoneNumber\"]')\n",
    "    phone_field.clear()\n",
    "    phone_field.send_keys(item['contact_phone'])\n",
    "    support_toggle = driver.find_element_by_xpath('//input[@id=\"4\"]')\n",
    "    support_toggle.click()\n",
    "    notes_field = driver.find_element_by_xpath('//textarea[@id=\"noteText\"]')\n",
    "    notes_field.clear()\n",
    "    notes_field.send_keys(\"Content provided by EBSCO, contact EBSCO for support issues\")\n",
    "    submit_button = driver.find_element_by_xpath('//input[@id=\"submitContactForm\"]')\n",
    "    submit_button.click()"
   ]
  },
  {
   "cell_type": "code",
   "execution_count": null,
   "metadata": {},
   "outputs": [],
   "source": [
    "def make_a_found(item):\n",
    "    go_to_homepage()\n",
    "    time.sleep(1)\n",
    "    open_resultspage_by_partial_word(item['formatted_publisher'][:15])\n",
    "    time.sleep(1)\n",
    "    enter_org_page(item['formatted_publisher'])\n",
    "    time.sleep(1)\n",
    "    edit_existing_org()\n",
    "    time.sleep(1)\n",
    "    add_org_info(item)\n",
    "    time.sleep(3)\n",
    "    add_contact_info(item)\n",
    "    time.sleep(1)"
   ]
  },
  {
   "cell_type": "code",
   "execution_count": null,
   "metadata": {},
   "outputs": [],
   "source": [
    "def make_a_notfound(item):\n",
    "    go_to_homepage()\n",
    "    time.sleep(1)\n",
    "    open_resultspage_by_partial_word(item['formatted_publisher'][:15])\n",
    "    time.sleep(1)\n",
    "    make_new_org(item)\n",
    "    time.sleep(1)\n",
    "    add_org_info(item)\n",
    "    time.sleep(6)\n",
    "    add_contact_info(item)\n",
    "    time.sleep(1)"
   ]
  },
  {
   "cell_type": "code",
   "execution_count": null,
   "metadata": {},
   "outputs": [],
   "source": [
    "# actually do the damage to founds\n",
    "# for item in founds:\n",
    "#     print(item['Publisher'])\n",
    "#     make_a_found(item)"
   ]
  },
  {
   "cell_type": "code",
   "execution_count": null,
   "metadata": {
    "scrolled": false
   },
   "outputs": [],
   "source": [
    "# actually do the damage to not_founds\n",
    "# for item in not_founds:\n",
    "#     print(item['Publisher'])\n",
    "#     make_a_notfound(item)"
   ]
  },
  {
   "cell_type": "code",
   "execution_count": null,
   "metadata": {},
   "outputs": [],
   "source": []
  },
  {
   "cell_type": "code",
   "execution_count": null,
   "metadata": {},
   "outputs": [],
   "source": [
    "# if you just want to try making one - for experiment\n",
    "\n",
    "sample_item = {'Publisher': 'A FAKE ITEM', 'Vendor': 'Fake vendor', 'provider': 'Fake', 'url': 'https://example.com', 'parent_name': 'Fake Parent', 'contact_email': 'fake@example.com', 'contact_phone': '867-5209', 'formatted_publisher': 'A FAKE ITEM'}\n",
    "make_a_found(sample_item)"
   ]
  }
 ],
 "metadata": {
  "kernelspec": {
   "display_name": "Python 3",
   "language": "python",
   "name": "python3"
  },
  "language_info": {
   "codemirror_mode": {
    "name": "ipython",
    "version": 3
   },
   "file_extension": ".py",
   "mimetype": "text/x-python",
   "name": "python",
   "nbconvert_exporter": "python",
   "pygments_lexer": "ipython3",
   "version": "3.7.1"
  }
 },
 "nbformat": 4,
 "nbformat_minor": 2
}
