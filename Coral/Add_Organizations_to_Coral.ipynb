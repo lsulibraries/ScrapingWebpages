{
 "cells": [
  {
   "cell_type": "code",
   "execution_count": null,
   "metadata": {},
   "outputs": [],
   "source": [
    "import getpass\n",
    "import time\n",
    "\n",
    "from selenium import webdriver\n",
    "from selenium.webdriver.common.keys import Keys\n",
    "from selenium.webdriver.common.by import By\n",
    "from selenium.webdriver.support.ui import WebDriverWait\n",
    "from selenium.webdriver.support import expected_conditions as EC\n",
    "from selenium.common.exceptions import NoSuchElementException"
   ]
  },
  {
   "cell_type": "code",
   "execution_count": null,
   "metadata": {},
   "outputs": [],
   "source": [
    "from openpyxl import load_workbook\n",
    "wb = load_workbook(filename='Organizations_module.xlsx')\n",
    "ws = wb['output']\n",
    "\n",
    "source_data = list()\n",
    "for num, row in enumerate(ws.rows):\n",
    "    if num == 0:\n",
    "        headers = [i.value for i in row]\n",
    "    else:\n",
    "        source_data.append(dict(zip(headers, [i.value for i in row])))"
   ]
  },
  {
   "cell_type": "code",
   "execution_count": null,
   "metadata": {},
   "outputs": [],
   "source": [
    "driver = webdriver.Firefox()"
   ]
  },
  {
   "cell_type": "code",
   "execution_count": null,
   "metadata": {},
   "outputs": [],
   "source": [
    "def open_site():\n",
    "    driver.get(\"https://lsu-erm.bc.sirsidynix.net/auth/?service=/organizations/\")"
   ]
  },
  {
   "cell_type": "code",
   "execution_count": null,
   "metadata": {},
   "outputs": [],
   "source": [
    "open_site()"
   ]
  },
  {
   "cell_type": "code",
   "execution_count": null,
   "metadata": {},
   "outputs": [],
   "source": [
    "def open_resultspage_by_firstletter(firstletter):\n",
    "    try:\n",
    "        shortcut = driver.find_element_by_xpath('//span[@id=\"span_letter_{}\"]'.format(firstletter))\n",
    "        shortcut.click()\n",
    "    except NoSuchElementException:\n",
    "        # use false to indicate no recorded titles begin with firstletter\n",
    "        return False"
   ]
  },
  {
   "cell_type": "code",
   "execution_count": null,
   "metadata": {},
   "outputs": [],
   "source": [
    "def open_resultspage_by_partial_word(partial_word):\n",
    "    input_box = driver.find_element_by_xpath('//')"
   ]
  },
  {
   "cell_type": "code",
   "execution_count": null,
   "metadata": {},
   "outputs": [],
   "source": [
    "def org_in_dataTable(org):\n",
    "    try:\n",
    "        link = driver.find_element_by_xpath('//table[@class=\"dataTable\"]/tbody/tr/td/a[contains(text(), \"{}\")]'.format(org))\n",
    "        return link\n",
    "    except NoSuchElementException:\n",
    "        # use false to indicate no recorded org with that title\n",
    "        return False"
   ]
  },
  {
   "cell_type": "code",
   "execution_count": null,
   "metadata": {},
   "outputs": [],
   "source": [
    "founds = list()\n",
    "not_founds = list()\n",
    "\n",
    "for item in source_data:\n",
    "    organization = item['Publisher']\n",
    "    open_resultspage_by_firstletter(organization[0])\n",
    "    time.sleep(2)\n",
    "    match = org_in_dataTable(organization)\n",
    "    if match:\n",
    "        founds.append((organization, match.text))\n",
    "    else:\n",
    "        not_founds.append(organization)\n",
    "        \n",
    "# there are ~10 orgs already entered in some degree.  Easier to do them manually."
   ]
  },
  {
   "cell_type": "code",
   "execution_count": null,
   "metadata": {},
   "outputs": [],
   "source": [
    "def go_to_homepage():\n",
    "    link = driver.find_element_by_xpath('//div[@class=\"main-menu-link active\"]/span[contains(text(), \"Home\")]')\n",
    "    link.click()"
   ]
  },
  {
   "cell_type": "code",
   "execution_count": null,
   "metadata": {},
   "outputs": [],
   "source": [
    "def enter_org_page(org):\n",
    "    link = driver.find_element_by_xpath('//table[@class=\"dataTable\"]/tbody/tr/td/a[contains(text(), \"{}\")]'.format(org))\n",
    "    link.click()"
   ]
  },
  {
   "cell_type": "code",
   "execution_count": null,
   "metadata": {},
   "outputs": [],
   "source": [
    "def make_new_org(item):\n",
    "    new_org_link = driver.find_element_by_xpath('//div[@class=\"main-menu-link\"]/span[contains(text(), \"New Organization\")]')\n",
    "    new_org_link.click()\n",
    "    time.sleep(2)\n",
    "    name_field = driver.find_element_by_xpath('//input[@id=\"organizationName\"]')\n",
    "    name_field.send_keys(item['vendor_publisher'])\n",
    "    parent_field = driver.find_element_by_xpath('//input[@id=\"parentOrganization\"]')\n",
    "    parent_field.send_keys(item['parent_name'])\n",
    "    url_field = driver.find_element_by_xpath('//input[@id=\"companyURL\"]')\n",
    "    url_field.clear()\n",
    "    url_field.send_keys(item['url'])\n",
    "    submit_button = driver.find_element_by_xpath('//input[@id=\"submitOrganizationChanges\"]')\n",
    "    submit_button.click()"
   ]
  },
  {
   "cell_type": "code",
   "execution_count": null,
   "metadata": {},
   "outputs": [],
   "source": [
    "def add_contact_info(item):\n",
    "    contact_button = driver.find_element_by_xpath('//a[@class=\"showContacts\"]')\n",
    "    contact_button.click()\n",
    "    time.sleep(2)\n",
    "    add_contact_link = driver.find_element_by_xpath('//a[contains(text(), \"add contact\")]')\n",
    "    add_contact_link.click()\n",
    "    time.sleep(2)\n",
    "    email_field = driver.find_element_by_xpath('//input[@id=\"emailAddress\"]')\n",
    "    email_field.send_keys(item['contact_email'])\n",
    "    phone_field = driver.find_element_by_xpath('//input[@id=\"phoneNumber\"]')\n",
    "    phone_field.send_keys(item['contact_phone'])\n",
    "    support_toggle = driver.find_element_by_xpath('//input[@id=\"4\"]')\n",
    "    support_toggle.click()\n",
    "    submit_button = driver.find_element_by_xpath('//input[@id=\"submitContactForm\"]')\n",
    "    submit_button.click()"
   ]
  },
  {
   "cell_type": "code",
   "execution_count": null,
   "metadata": {},
   "outputs": [],
   "source": [
    "for item in source_data:\n",
    "    print(item['vendor_publisher'])\n",
    "    if item['vendor_publisher'] in not_founds:\n",
    "        make_new_org(item)\n",
    "        add_contact_info(item)\n",
    "        time.sleep(2)\n",
    "        break\n",
    "    else:\n",
    "        print('{} not in \"not_founds\"'.format(item['vendor_publisher']))"
   ]
  },
  {
   "cell_type": "code",
   "execution_count": null,
   "metadata": {},
   "outputs": [],
   "source": [
    "source_data[0]"
   ]
  },
  {
   "cell_type": "code",
   "execution_count": null,
   "metadata": {},
   "outputs": [],
   "source": []
  }
 ],
 "metadata": {
  "kernelspec": {
   "display_name": "Python 3",
   "language": "python",
   "name": "python3"
  },
  "language_info": {
   "codemirror_mode": {
    "name": "ipython",
    "version": 3
   },
   "file_extension": ".py",
   "mimetype": "text/x-python",
   "name": "python",
   "nbconvert_exporter": "python",
   "pygments_lexer": "ipython3",
   "version": "3.7.1"
  }
 },
 "nbformat": 4,
 "nbformat_minor": 2
}
